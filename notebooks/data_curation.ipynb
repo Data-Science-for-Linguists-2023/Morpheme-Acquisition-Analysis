{
 "cells": [
  {
   "cell_type": "code",
   "execution_count": 1,
   "id": "5cbe6c7d",
   "metadata": {},
   "outputs": [],
   "source": [
    "# loading required libraries\n",
    "import nltk, pickle, pprint, csv\n",
    "import numpy as np\n",
    "import pandas as pd\n",
    "import matplotlib.pyplot as plt\n",
    "\n",
    "# pretty printing for readability\n",
    "cp = pprint.PrettyPrinter(compact=True, sort_dicts=True)"
   ]
  },
  {
   "cell_type": "markdown",
   "id": "a7f32bed",
   "metadata": {},
   "source": [
    "## Learner corpus"
   ]
  },
  {
   "cell_type": "markdown",
   "id": "807faf30",
   "metadata": {},
   "source": [
    "I will utilize the COREFL, or \"CORpus of English as a Foreign Language\". It contains written and spoken data, but this analysis will only include spoken. The participants are adult learners with two different L1 backgrounds (Spanish and German). "
   ]
  },
  {
   "cell_type": "markdown",
   "id": "d0bc6221",
   "metadata": {},
   "source": [
    "### Data import (Learner)"
   ]
  },
  {
   "cell_type": "code",
   "execution_count": 2,
   "id": "04a3e1fd",
   "metadata": {
    "scrolled": true
   },
   "outputs": [],
   "source": [
    "Lraw= pd.read_csv('../data/COREFL.csv', sep='\\t') # importing COREFL spoken learner data"
   ]
  },
  {
   "cell_type": "code",
   "execution_count": 3,
   "id": "ffd5d6c5",
   "metadata": {
    "scrolled": true
   },
   "outputs": [
    {
     "data": {
      "text/html": [
       "<div>\n",
       "<style scoped>\n",
       "    .dataframe tbody tr th:only-of-type {\n",
       "        vertical-align: middle;\n",
       "    }\n",
       "\n",
       "    .dataframe tbody tr th {\n",
       "        vertical-align: top;\n",
       "    }\n",
       "\n",
       "    .dataframe thead th {\n",
       "        text-align: right;\n",
       "    }\n",
       "</style>\n",
       "<table border=\"1\" class=\"dataframe\">\n",
       "  <thead>\n",
       "    <tr style=\"text-align: right;\">\n",
       "      <th></th>\n",
       "      <th>Subcorpus</th>\n",
       "      <th>Filename</th>\n",
       "      <th>Year data collection</th>\n",
       "      <th>Placement test score (raw)</th>\n",
       "      <th>Placement test score (%)</th>\n",
       "      <th>Proficiency</th>\n",
       "      <th>Sex</th>\n",
       "      <th>Age</th>\n",
       "      <th>School/University/Institution</th>\n",
       "      <th>Major</th>\n",
       "      <th>...</th>\n",
       "      <th>Proficiency (self-assessment) in additional language writing</th>\n",
       "      <th>Medium</th>\n",
       "      <th>Task number</th>\n",
       "      <th>Task title</th>\n",
       "      <th>Writing/audio details</th>\n",
       "      <th>Minutes taken to complete the task</th>\n",
       "      <th>Where the task was done</th>\n",
       "      <th>Resources used</th>\n",
       "      <th>Text</th>\n",
       "      <th>Original text</th>\n",
       "    </tr>\n",
       "  </thead>\n",
       "  <tbody>\n",
       "    <tr>\n",
       "      <th>0</th>\n",
       "      <td>Learners</td>\n",
       "      <td>DE_SP_B1_26_13_13_TM</td>\n",
       "      <td>2016</td>\n",
       "      <td>30 / 60</td>\n",
       "      <td>50.0</td>\n",
       "      <td>B1 (lower intermediate)</td>\n",
       "      <td>Male</td>\n",
       "      <td>26</td>\n",
       "      <td>Bremen</td>\n",
       "      <td>BiPEB: English Speaking Cultures</td>\n",
       "      <td>...</td>\n",
       "      <td>A1 (lower beginner)</td>\n",
       "      <td>Spoken</td>\n",
       "      <td>13</td>\n",
       "      <td>13. Frog</td>\n",
       "      <td>spoken_offline_classroom</td>\n",
       "      <td>NaN</td>\n",
       "      <td>Inside classroom</td>\n",
       "      <td>NaN</td>\n",
       "      <td>One day Tommy found a frog in a forest and bro...</td>\n",
       "      <td>NaN</td>\n",
       "    </tr>\n",
       "    <tr>\n",
       "      <th>1</th>\n",
       "      <td>Learners</td>\n",
       "      <td>DE_SP_B1_19_11_13_RN</td>\n",
       "      <td>2016</td>\n",
       "      <td>37 / 60</td>\n",
       "      <td>61.7</td>\n",
       "      <td>B1 (lower intermediate)</td>\n",
       "      <td>Female</td>\n",
       "      <td>19</td>\n",
       "      <td>Bremen</td>\n",
       "      <td>BA English-Speaking Cultures: English, Slavoni...</td>\n",
       "      <td>...</td>\n",
       "      <td>A1 (lower beginner)</td>\n",
       "      <td>Spoken</td>\n",
       "      <td>13</td>\n",
       "      <td>13. Frog</td>\n",
       "      <td>spoken_offline_classroom</td>\n",
       "      <td>NaN</td>\n",
       "      <td>Inside classroom</td>\n",
       "      <td>NaN</td>\n",
       "      <td>One day a little boy called John uh with his d...</td>\n",
       "      <td>NaN</td>\n",
       "    </tr>\n",
       "    <tr>\n",
       "      <th>2</th>\n",
       "      <td>Learners</td>\n",
       "      <td>DE_SP_B1_21_12_13_SE</td>\n",
       "      <td>2016</td>\n",
       "      <td>37 / 60</td>\n",
       "      <td>61.7</td>\n",
       "      <td>B1 (lower intermediate)</td>\n",
       "      <td>Female</td>\n",
       "      <td>21</td>\n",
       "      <td>Bremen</td>\n",
       "      <td>Teaching Gym, ESC, Romance Studies: French, En...</td>\n",
       "      <td>...</td>\n",
       "      <td>B2 (upper intermediate)</td>\n",
       "      <td>Spoken</td>\n",
       "      <td>13</td>\n",
       "      <td>13. Frog</td>\n",
       "      <td>spoken_offline_classroom</td>\n",
       "      <td>NaN</td>\n",
       "      <td>Inside classroom</td>\n",
       "      <td>NaN</td>\n",
       "      <td>One day a boy was sitting in his room / uh he ...</td>\n",
       "      <td>NaN</td>\n",
       "    </tr>\n",
       "    <tr>\n",
       "      <th>3</th>\n",
       "      <td>Learners</td>\n",
       "      <td>DE_SP_B1_22_15_13_LF</td>\n",
       "      <td>2016</td>\n",
       "      <td>37 / 60</td>\n",
       "      <td>61.7</td>\n",
       "      <td>B1 (lower intermediate)</td>\n",
       "      <td>Female</td>\n",
       "      <td>22</td>\n",
       "      <td>Bremen</td>\n",
       "      <td>BA English Speaking Cultures: English</td>\n",
       "      <td>...</td>\n",
       "      <td>A2 (upper beginner)</td>\n",
       "      <td>Spoken</td>\n",
       "      <td>13</td>\n",
       "      <td>13. Frog</td>\n",
       "      <td>spoken_offline_classroom</td>\n",
       "      <td>NaN</td>\n",
       "      <td>Inside classroom</td>\n",
       "      <td>NaN</td>\n",
       "      <td>Uh one day a little boy and his dog are watchi...</td>\n",
       "      <td>NaN</td>\n",
       "    </tr>\n",
       "    <tr>\n",
       "      <th>4</th>\n",
       "      <td>Learners</td>\n",
       "      <td>DE_SP_B1_33_10_14_JR</td>\n",
       "      <td>2018</td>\n",
       "      <td>38 / 60</td>\n",
       "      <td>63.3</td>\n",
       "      <td>B1 (lower intermediate)</td>\n",
       "      <td>Female</td>\n",
       "      <td>33</td>\n",
       "      <td>Universität Bremen</td>\n",
       "      <td>English-Speaking Cultures, Philosophie</td>\n",
       "      <td>...</td>\n",
       "      <td>B1 (lower intermediate)</td>\n",
       "      <td>Spoken</td>\n",
       "      <td>14</td>\n",
       "      <td>14. Chaplin</td>\n",
       "      <td>spoken_offline_lab</td>\n",
       "      <td>NaN</td>\n",
       "      <td>NaN</td>\n",
       "      <td>NaN</td>\n",
       "      <td>Ok this story is about toch uh Charles Chaplin...</td>\n",
       "      <td>NaN</td>\n",
       "    </tr>\n",
       "  </tbody>\n",
       "</table>\n",
       "<p>5 rows × 41 columns</p>\n",
       "</div>"
      ],
      "text/plain": [
       "  Subcorpus              Filename  Year data collection  \\\n",
       "0  Learners  DE_SP_B1_26_13_13_TM                  2016   \n",
       "1  Learners  DE_SP_B1_19_11_13_RN                  2016   \n",
       "2  Learners  DE_SP_B1_21_12_13_SE                  2016   \n",
       "3  Learners  DE_SP_B1_22_15_13_LF                  2016   \n",
       "4  Learners  DE_SP_B1_33_10_14_JR                  2018   \n",
       "\n",
       "  Placement test score (raw)  Placement test score (%)  \\\n",
       "0                    30 / 60                      50.0   \n",
       "1                    37 / 60                      61.7   \n",
       "2                    37 / 60                      61.7   \n",
       "3                    37 / 60                      61.7   \n",
       "4                    38 / 60                      63.3   \n",
       "\n",
       "               Proficiency     Sex  Age School/University/Institution  \\\n",
       "0  B1 (lower intermediate)    Male   26                        Bremen   \n",
       "1  B1 (lower intermediate)  Female   19                        Bremen   \n",
       "2  B1 (lower intermediate)  Female   21                        Bremen   \n",
       "3  B1 (lower intermediate)  Female   22                        Bremen   \n",
       "4  B1 (lower intermediate)  Female   33            Universität Bremen   \n",
       "\n",
       "                                               Major  ...  \\\n",
       "0                   BiPEB: English Speaking Cultures  ...   \n",
       "1  BA English-Speaking Cultures: English, Slavoni...  ...   \n",
       "2  Teaching Gym, ESC, Romance Studies: French, En...  ...   \n",
       "3              BA English Speaking Cultures: English  ...   \n",
       "4             English-Speaking Cultures, Philosophie  ...   \n",
       "\n",
       "  Proficiency (self-assessment) in additional language writing  Medium  \\\n",
       "0                                A1 (lower beginner)            Spoken   \n",
       "1                                A1 (lower beginner)            Spoken   \n",
       "2                            B2 (upper intermediate)            Spoken   \n",
       "3                                A2 (upper beginner)            Spoken   \n",
       "4                            B1 (lower intermediate)            Spoken   \n",
       "\n",
       "  Task number   Task title     Writing/audio details  \\\n",
       "0          13     13. Frog  spoken_offline_classroom   \n",
       "1          13     13. Frog  spoken_offline_classroom   \n",
       "2          13     13. Frog  spoken_offline_classroom   \n",
       "3          13     13. Frog  spoken_offline_classroom   \n",
       "4          14  14. Chaplin        spoken_offline_lab   \n",
       "\n",
       "   Minutes taken to complete the task  Where the task was done Resources used  \\\n",
       "0                                 NaN         Inside classroom            NaN   \n",
       "1                                 NaN         Inside classroom            NaN   \n",
       "2                                 NaN         Inside classroom            NaN   \n",
       "3                                 NaN         Inside classroom            NaN   \n",
       "4                                 NaN                      NaN            NaN   \n",
       "\n",
       "                                                Text Original text  \n",
       "0  One day Tommy found a frog in a forest and bro...           NaN  \n",
       "1  One day a little boy called John uh with his d...           NaN  \n",
       "2  One day a boy was sitting in his room / uh he ...           NaN  \n",
       "3  Uh one day a little boy and his dog are watchi...           NaN  \n",
       "4  Ok this story is about toch uh Charles Chaplin...           NaN  \n",
       "\n",
       "[5 rows x 41 columns]"
      ]
     },
     "execution_count": 3,
     "metadata": {},
     "output_type": "execute_result"
    }
   ],
   "source": [
    "Lraw.head() # displaying first rows"
   ]
  },
  {
   "cell_type": "code",
   "execution_count": 4,
   "id": "885f9f54",
   "metadata": {
    "scrolled": true
   },
   "outputs": [
    {
     "data": {
      "text/html": [
       "<div>\n",
       "<style scoped>\n",
       "    .dataframe tbody tr th:only-of-type {\n",
       "        vertical-align: middle;\n",
       "    }\n",
       "\n",
       "    .dataframe tbody tr th {\n",
       "        vertical-align: top;\n",
       "    }\n",
       "\n",
       "    .dataframe thead th {\n",
       "        text-align: right;\n",
       "    }\n",
       "</style>\n",
       "<table border=\"1\" class=\"dataframe\">\n",
       "  <thead>\n",
       "    <tr style=\"text-align: right;\">\n",
       "      <th></th>\n",
       "      <th>Year data collection</th>\n",
       "      <th>Placement test score (%)</th>\n",
       "      <th>Age</th>\n",
       "      <th>Age of exposure to English</th>\n",
       "      <th>Years studying English</th>\n",
       "      <th>Stay abroad (months)</th>\n",
       "      <th>Task number</th>\n",
       "      <th>Minutes taken to complete the task</th>\n",
       "      <th>Original text</th>\n",
       "    </tr>\n",
       "  </thead>\n",
       "  <tbody>\n",
       "    <tr>\n",
       "      <th>count</th>\n",
       "      <td>351.000000</td>\n",
       "      <td>351.000000</td>\n",
       "      <td>351.000000</td>\n",
       "      <td>351.000000</td>\n",
       "      <td>350.000000</td>\n",
       "      <td>349.000000</td>\n",
       "      <td>351.000000</td>\n",
       "      <td>176.000000</td>\n",
       "      <td>0.0</td>\n",
       "    </tr>\n",
       "    <tr>\n",
       "      <th>mean</th>\n",
       "      <td>2017.774929</td>\n",
       "      <td>76.283761</td>\n",
       "      <td>21.997151</td>\n",
       "      <td>8.039886</td>\n",
       "      <td>12.750000</td>\n",
       "      <td>4.545272</td>\n",
       "      <td>12.649573</td>\n",
       "      <td>31.840909</td>\n",
       "      <td>NaN</td>\n",
       "    </tr>\n",
       "    <tr>\n",
       "      <th>std</th>\n",
       "      <td>1.437477</td>\n",
       "      <td>16.461987</td>\n",
       "      <td>5.707388</td>\n",
       "      <td>3.913143</td>\n",
       "      <td>3.756704</td>\n",
       "      <td>11.132887</td>\n",
       "      <td>3.105708</td>\n",
       "      <td>78.686631</td>\n",
       "      <td>NaN</td>\n",
       "    </tr>\n",
       "    <tr>\n",
       "      <th>min</th>\n",
       "      <td>2016.000000</td>\n",
       "      <td>15.000000</td>\n",
       "      <td>17.000000</td>\n",
       "      <td>0.000000</td>\n",
       "      <td>1.000000</td>\n",
       "      <td>0.000000</td>\n",
       "      <td>2.000000</td>\n",
       "      <td>2.000000</td>\n",
       "      <td>NaN</td>\n",
       "    </tr>\n",
       "    <tr>\n",
       "      <th>25%</th>\n",
       "      <td>2016.000000</td>\n",
       "      <td>66.700000</td>\n",
       "      <td>19.000000</td>\n",
       "      <td>6.000000</td>\n",
       "      <td>11.000000</td>\n",
       "      <td>0.000000</td>\n",
       "      <td>13.000000</td>\n",
       "      <td>10.000000</td>\n",
       "      <td>NaN</td>\n",
       "    </tr>\n",
       "    <tr>\n",
       "      <th>50%</th>\n",
       "      <td>2018.000000</td>\n",
       "      <td>80.000000</td>\n",
       "      <td>21.000000</td>\n",
       "      <td>8.000000</td>\n",
       "      <td>12.000000</td>\n",
       "      <td>0.000000</td>\n",
       "      <td>14.000000</td>\n",
       "      <td>15.000000</td>\n",
       "      <td>NaN</td>\n",
       "    </tr>\n",
       "    <tr>\n",
       "      <th>75%</th>\n",
       "      <td>2019.000000</td>\n",
       "      <td>88.300000</td>\n",
       "      <td>23.000000</td>\n",
       "      <td>10.000000</td>\n",
       "      <td>15.000000</td>\n",
       "      <td>6.000000</td>\n",
       "      <td>14.000000</td>\n",
       "      <td>25.000000</td>\n",
       "      <td>NaN</td>\n",
       "    </tr>\n",
       "    <tr>\n",
       "      <th>max</th>\n",
       "      <td>2021.000000</td>\n",
       "      <td>100.000000</td>\n",
       "      <td>61.000000</td>\n",
       "      <td>45.000000</td>\n",
       "      <td>49.000000</td>\n",
       "      <td>114.000000</td>\n",
       "      <td>14.000000</td>\n",
       "      <td>600.000000</td>\n",
       "      <td>NaN</td>\n",
       "    </tr>\n",
       "  </tbody>\n",
       "</table>\n",
       "</div>"
      ],
      "text/plain": [
       "       Year data collection  Placement test score (%)         Age  \\\n",
       "count            351.000000                351.000000  351.000000   \n",
       "mean            2017.774929                 76.283761   21.997151   \n",
       "std                1.437477                 16.461987    5.707388   \n",
       "min             2016.000000                 15.000000   17.000000   \n",
       "25%             2016.000000                 66.700000   19.000000   \n",
       "50%             2018.000000                 80.000000   21.000000   \n",
       "75%             2019.000000                 88.300000   23.000000   \n",
       "max             2021.000000                100.000000   61.000000   \n",
       "\n",
       "       Age of exposure to English  Years studying English  \\\n",
       "count                  351.000000              350.000000   \n",
       "mean                     8.039886               12.750000   \n",
       "std                      3.913143                3.756704   \n",
       "min                      0.000000                1.000000   \n",
       "25%                      6.000000               11.000000   \n",
       "50%                      8.000000               12.000000   \n",
       "75%                     10.000000               15.000000   \n",
       "max                     45.000000               49.000000   \n",
       "\n",
       "       Stay abroad (months)  Task number  Minutes taken to complete the task  \\\n",
       "count            349.000000   351.000000                          176.000000   \n",
       "mean               4.545272    12.649573                           31.840909   \n",
       "std               11.132887     3.105708                           78.686631   \n",
       "min                0.000000     2.000000                            2.000000   \n",
       "25%                0.000000    13.000000                           10.000000   \n",
       "50%                0.000000    14.000000                           15.000000   \n",
       "75%                6.000000    14.000000                           25.000000   \n",
       "max              114.000000    14.000000                          600.000000   \n",
       "\n",
       "       Original text  \n",
       "count            0.0  \n",
       "mean             NaN  \n",
       "std              NaN  \n",
       "min              NaN  \n",
       "25%              NaN  \n",
       "50%              NaN  \n",
       "75%              NaN  \n",
       "max              NaN  "
      ]
     },
     "execution_count": 4,
     "metadata": {},
     "output_type": "execute_result"
    }
   ],
   "source": [
    "Lraw.describe() # summary statistics"
   ]
  },
  {
   "cell_type": "markdown",
   "id": "0588518a",
   "metadata": {},
   "source": [
    "It appears that the mean age of learners is 21. The mean years of studying English is 12.75, which might be quite high for analysis of morpheme acquisition that is comparable to a child's in their L1. This analysis may have to focus specifically on learners in their first few years of study, or compile some additional learner data from another spoken and transcribed corpus."
   ]
  },
  {
   "cell_type": "code",
   "execution_count": 5,
   "id": "b75c29c1",
   "metadata": {
    "scrolled": false
   },
   "outputs": [
    {
     "data": {
      "text/plain": [
       "Index(['Subcorpus', 'Filename', 'Year data collection',\n",
       "       'Placement test score (raw)', 'Placement test score (%)', 'Proficiency',\n",
       "       'Sex', 'Age', 'School/University/Institution', 'Major',\n",
       "       'Year at university/school', 'L1', 'Father's native language',\n",
       "       'Mother's native language', 'Languages spoken at home',\n",
       "       'Age of exposure to English', 'Years studying English',\n",
       "       'Stay abroad in English speaking country (>= 1 month)',\n",
       "       'Stay abroad (where)', 'Stay abroad (when)', 'Stay abroad (months)',\n",
       "       'Language certificates (type and level)',\n",
       "       'Proficiency (self-assessment) speaking',\n",
       "       'Proficiency (self-assessment) listening',\n",
       "       'Proficiency (self-assessment) reading',\n",
       "       'Proficiency (self-assessment) writing',\n",
       "       'Proficiency (self-assessment)', 'Additional foreign language(s)',\n",
       "       'Proficiency (self-assessment) in additional language speaking',\n",
       "       'Proficiency (self-assessment) in additional language listening',\n",
       "       'Proficiency (self-assessment) in additional language reading',\n",
       "       'Proficiency (self-assessment) in additional language writing',\n",
       "       'Medium', 'Task number', 'Task title', 'Writing/audio details',\n",
       "       'Minutes taken to complete the task', 'Where the task was done',\n",
       "       'Resources used', 'Text', 'Original text'],\n",
       "      dtype='object')"
      ]
     },
     "execution_count": 5,
     "metadata": {},
     "output_type": "execute_result"
    }
   ],
   "source": [
    "Lraw.columns # displaying a list of all the columns"
   ]
  },
  {
   "cell_type": "markdown",
   "id": "27849da5",
   "metadata": {},
   "source": [
    "There's a lot of metadata and information that isn't necessary for the purposes of this project bloating the dataframe, so it will be tidied a bit."
   ]
  },
  {
   "cell_type": "markdown",
   "id": "eef741e3",
   "metadata": {},
   "source": [
    "### Cleaning (Learner)"
   ]
  },
  {
   "cell_type": "code",
   "execution_count": 6,
   "id": "c8b9c5e9",
   "metadata": {},
   "outputs": [],
   "source": [
    "# selecting columns that are needed\n",
    "Lcorpus= Lraw[['Filename', 'Proficiency', 'Age', 'L1',\n",
    "              'Age of exposure to English', 'Years studying English', 'Text']]"
   ]
  },
  {
   "cell_type": "code",
   "execution_count": 7,
   "id": "ccd3db4a",
   "metadata": {
    "scrolled": false
   },
   "outputs": [
    {
     "name": "stderr",
     "output_type": "stream",
     "text": [
      "C:\\Users\\dinoc\\AppData\\Local\\Temp\\ipykernel_21464\\2481426631.py:1: SettingWithCopyWarning: \n",
      "A value is trying to be set on a copy of a slice from a DataFrame\n",
      "\n",
      "See the caveats in the documentation: https://pandas.pydata.org/pandas-docs/stable/user_guide/indexing.html#returning-a-view-versus-a-copy\n",
      "  Lcorpus.rename(columns={'Age of exposure to English':'Age_Exposure', 'Years studying English':'Years_Study',\n"
     ]
    }
   ],
   "source": [
    "Lcorpus.rename(columns={'Age of exposure to English':'Age_Exposure', 'Years studying English':'Years_Study',\n",
    "                      'Task number':'Task'}, inplace=True) # renaming columns"
   ]
  },
  {
   "cell_type": "code",
   "execution_count": 8,
   "id": "2374c556",
   "metadata": {
    "scrolled": true
   },
   "outputs": [
    {
     "data": {
      "text/html": [
       "<div>\n",
       "<style scoped>\n",
       "    .dataframe tbody tr th:only-of-type {\n",
       "        vertical-align: middle;\n",
       "    }\n",
       "\n",
       "    .dataframe tbody tr th {\n",
       "        vertical-align: top;\n",
       "    }\n",
       "\n",
       "    .dataframe thead th {\n",
       "        text-align: right;\n",
       "    }\n",
       "</style>\n",
       "<table border=\"1\" class=\"dataframe\">\n",
       "  <thead>\n",
       "    <tr style=\"text-align: right;\">\n",
       "      <th></th>\n",
       "      <th>Filename</th>\n",
       "      <th>Proficiency</th>\n",
       "      <th>Age</th>\n",
       "      <th>L1</th>\n",
       "      <th>Age_Exposure</th>\n",
       "      <th>Years_Study</th>\n",
       "      <th>Text</th>\n",
       "    </tr>\n",
       "  </thead>\n",
       "  <tbody>\n",
       "    <tr>\n",
       "      <th>0</th>\n",
       "      <td>DE_SP_B1_26_13_13_TM</td>\n",
       "      <td>B1 (lower intermediate)</td>\n",
       "      <td>26</td>\n",
       "      <td>German</td>\n",
       "      <td>8</td>\n",
       "      <td>13.0</td>\n",
       "      <td>One day Tommy found a frog in a forest and bro...</td>\n",
       "    </tr>\n",
       "    <tr>\n",
       "      <th>1</th>\n",
       "      <td>DE_SP_B1_19_11_13_RN</td>\n",
       "      <td>B1 (lower intermediate)</td>\n",
       "      <td>19</td>\n",
       "      <td>German</td>\n",
       "      <td>10</td>\n",
       "      <td>11.0</td>\n",
       "      <td>One day a little boy called John uh with his d...</td>\n",
       "    </tr>\n",
       "    <tr>\n",
       "      <th>2</th>\n",
       "      <td>DE_SP_B1_21_12_13_SE</td>\n",
       "      <td>B1 (lower intermediate)</td>\n",
       "      <td>21</td>\n",
       "      <td>German</td>\n",
       "      <td>9</td>\n",
       "      <td>12.0</td>\n",
       "      <td>One day a boy was sitting in his room / uh he ...</td>\n",
       "    </tr>\n",
       "    <tr>\n",
       "      <th>3</th>\n",
       "      <td>DE_SP_B1_22_15_13_LF</td>\n",
       "      <td>B1 (lower intermediate)</td>\n",
       "      <td>22</td>\n",
       "      <td>German</td>\n",
       "      <td>7</td>\n",
       "      <td>15.0</td>\n",
       "      <td>Uh one day a little boy and his dog are watchi...</td>\n",
       "    </tr>\n",
       "    <tr>\n",
       "      <th>4</th>\n",
       "      <td>DE_SP_B1_33_10_14_JR</td>\n",
       "      <td>B1 (lower intermediate)</td>\n",
       "      <td>33</td>\n",
       "      <td>German</td>\n",
       "      <td>10</td>\n",
       "      <td>10.0</td>\n",
       "      <td>Ok this story is about toch uh Charles Chaplin...</td>\n",
       "    </tr>\n",
       "  </tbody>\n",
       "</table>\n",
       "</div>"
      ],
      "text/plain": [
       "               Filename              Proficiency  Age      L1  Age_Exposure  \\\n",
       "0  DE_SP_B1_26_13_13_TM  B1 (lower intermediate)   26  German             8   \n",
       "1  DE_SP_B1_19_11_13_RN  B1 (lower intermediate)   19  German            10   \n",
       "2  DE_SP_B1_21_12_13_SE  B1 (lower intermediate)   21  German             9   \n",
       "3  DE_SP_B1_22_15_13_LF  B1 (lower intermediate)   22  German             7   \n",
       "4  DE_SP_B1_33_10_14_JR  B1 (lower intermediate)   33  German            10   \n",
       "\n",
       "   Years_Study                                               Text  \n",
       "0         13.0  One day Tommy found a frog in a forest and bro...  \n",
       "1         11.0  One day a little boy called John uh with his d...  \n",
       "2         12.0  One day a boy was sitting in his room / uh he ...  \n",
       "3         15.0  Uh one day a little boy and his dog are watchi...  \n",
       "4         10.0  Ok this story is about toch uh Charles Chaplin...  "
      ]
     },
     "execution_count": 8,
     "metadata": {},
     "output_type": "execute_result"
    }
   ],
   "source": [
    "Lcorpus.head()"
   ]
  },
  {
   "cell_type": "code",
   "execution_count": 9,
   "id": "21908ea9",
   "metadata": {
    "scrolled": false
   },
   "outputs": [
    {
     "name": "stdout",
     "output_type": "stream",
     "text": [
      "<class 'pandas.core.frame.DataFrame'>\n",
      "RangeIndex: 351 entries, 0 to 350\n",
      "Data columns (total 7 columns):\n",
      " #   Column        Non-Null Count  Dtype  \n",
      "---  ------        --------------  -----  \n",
      " 0   Filename      351 non-null    object \n",
      " 1   Proficiency   351 non-null    object \n",
      " 2   Age           351 non-null    int64  \n",
      " 3   L1            351 non-null    object \n",
      " 4   Age_Exposure  351 non-null    int64  \n",
      " 5   Years_Study   350 non-null    float64\n",
      " 6   Text          351 non-null    object \n",
      "dtypes: float64(1), int64(2), object(4)\n",
      "memory usage: 19.3+ KB\n"
     ]
    }
   ],
   "source": [
    "Lcorpus.info() # displaying info"
   ]
  },
  {
   "cell_type": "markdown",
   "id": "b5994231",
   "metadata": {},
   "source": [
    "There seems to be a column with a null value for `Years_Study`. Let's investigate. "
   ]
  },
  {
   "cell_type": "code",
   "execution_count": 10,
   "id": "b701035c",
   "metadata": {
    "scrolled": true
   },
   "outputs": [
    {
     "data": {
      "text/html": [
       "<div>\n",
       "<style scoped>\n",
       "    .dataframe tbody tr th:only-of-type {\n",
       "        vertical-align: middle;\n",
       "    }\n",
       "\n",
       "    .dataframe tbody tr th {\n",
       "        vertical-align: top;\n",
       "    }\n",
       "\n",
       "    .dataframe thead th {\n",
       "        text-align: right;\n",
       "    }\n",
       "</style>\n",
       "<table border=\"1\" class=\"dataframe\">\n",
       "  <thead>\n",
       "    <tr style=\"text-align: right;\">\n",
       "      <th></th>\n",
       "      <th>Filename</th>\n",
       "      <th>Proficiency</th>\n",
       "      <th>Age</th>\n",
       "      <th>L1</th>\n",
       "      <th>Age_Exposure</th>\n",
       "      <th>Years_Study</th>\n",
       "      <th>Text</th>\n",
       "    </tr>\n",
       "  </thead>\n",
       "  <tbody>\n",
       "    <tr>\n",
       "      <th>222</th>\n",
       "      <td>ES_SP_B1_27_Unknown_13_ESH</td>\n",
       "      <td>B1 (lower intermediate)</td>\n",
       "      <td>27</td>\n",
       "      <td>Spanish</td>\n",
       "      <td>0</td>\n",
       "      <td>NaN</td>\n",
       "      <td>uh in the first picture uh / a kid and a dog u...</td>\n",
       "    </tr>\n",
       "  </tbody>\n",
       "</table>\n",
       "</div>"
      ],
      "text/plain": [
       "                       Filename              Proficiency  Age       L1  \\\n",
       "222  ES_SP_B1_27_Unknown_13_ESH  B1 (lower intermediate)   27  Spanish   \n",
       "\n",
       "     Age_Exposure  Years_Study  \\\n",
       "222             0          NaN   \n",
       "\n",
       "                                                  Text  \n",
       "222  uh in the first picture uh / a kid and a dog u...  "
      ]
     },
     "execution_count": 10,
     "metadata": {},
     "output_type": "execute_result"
    }
   ],
   "source": [
    "Lcorpus[Lcorpus.Years_Study.isnull()]"
   ]
  },
  {
   "cell_type": "markdown",
   "id": "2cf4478a",
   "metadata": {},
   "source": [
    "There isn't much to be done, since we can't make up a data point for the years this person has studied English. Unfortunately this entry will have to be dropped from the data frame. "
   ]
  },
  {
   "cell_type": "code",
   "execution_count": 11,
   "id": "3e3252f7",
   "metadata": {},
   "outputs": [],
   "source": [
    "Lcorpus= Lcorpus.drop(222, axis=0)"
   ]
  },
  {
   "cell_type": "code",
   "execution_count": 12,
   "id": "0534b1b1",
   "metadata": {
    "scrolled": true
   },
   "outputs": [
    {
     "name": "stdout",
     "output_type": "stream",
     "text": [
      "<class 'pandas.core.frame.DataFrame'>\n",
      "Int64Index: 350 entries, 0 to 350\n",
      "Data columns (total 7 columns):\n",
      " #   Column        Non-Null Count  Dtype  \n",
      "---  ------        --------------  -----  \n",
      " 0   Filename      350 non-null    object \n",
      " 1   Proficiency   350 non-null    object \n",
      " 2   Age           350 non-null    int64  \n",
      " 3   L1            350 non-null    object \n",
      " 4   Age_Exposure  350 non-null    int64  \n",
      " 5   Years_Study   350 non-null    float64\n",
      " 6   Text          350 non-null    object \n",
      "dtypes: float64(1), int64(2), object(4)\n",
      "memory usage: 21.9+ KB\n"
     ]
    }
   ],
   "source": [
    "Lcorpus.info() # no null values, looking good"
   ]
  },
  {
   "cell_type": "code",
   "execution_count": 13,
   "id": "d464f921",
   "metadata": {
    "scrolled": true
   },
   "outputs": [
    {
     "name": "stderr",
     "output_type": "stream",
     "text": [
      "C:\\Users\\dinoc\\AppData\\Local\\Temp\\ipykernel_21464\\1084793618.py:2: FutureWarning: The default value of regex will change from True to False in a future version.\n",
      "  Lcorpus['Proficiency'] = Lcorpus['Proficiency'].str.replace(r\"\\(.*\\)\",\"\")\n"
     ]
    }
   ],
   "source": [
    "# cleaning up Proficiency column to just keep reference level\n",
    "Lcorpus['Proficiency'] = Lcorpus['Proficiency'].str.replace(r\"\\(.*\\)\",\"\")"
   ]
  },
  {
   "cell_type": "code",
   "execution_count": 14,
   "id": "64afa780",
   "metadata": {},
   "outputs": [
    {
     "data": {
      "text/html": [
       "<div>\n",
       "<style scoped>\n",
       "    .dataframe tbody tr th:only-of-type {\n",
       "        vertical-align: middle;\n",
       "    }\n",
       "\n",
       "    .dataframe tbody tr th {\n",
       "        vertical-align: top;\n",
       "    }\n",
       "\n",
       "    .dataframe thead th {\n",
       "        text-align: right;\n",
       "    }\n",
       "</style>\n",
       "<table border=\"1\" class=\"dataframe\">\n",
       "  <thead>\n",
       "    <tr style=\"text-align: right;\">\n",
       "      <th></th>\n",
       "      <th>Filename</th>\n",
       "      <th>Proficiency</th>\n",
       "      <th>Age</th>\n",
       "      <th>L1</th>\n",
       "      <th>Age_Exposure</th>\n",
       "      <th>Years_Study</th>\n",
       "      <th>Text</th>\n",
       "    </tr>\n",
       "  </thead>\n",
       "  <tbody>\n",
       "    <tr>\n",
       "      <th>0</th>\n",
       "      <td>DE_SP_B1_26_13_13_TM</td>\n",
       "      <td>B1</td>\n",
       "      <td>26</td>\n",
       "      <td>German</td>\n",
       "      <td>8</td>\n",
       "      <td>13.0</td>\n",
       "      <td>One day Tommy found a frog in a forest and bro...</td>\n",
       "    </tr>\n",
       "    <tr>\n",
       "      <th>1</th>\n",
       "      <td>DE_SP_B1_19_11_13_RN</td>\n",
       "      <td>B1</td>\n",
       "      <td>19</td>\n",
       "      <td>German</td>\n",
       "      <td>10</td>\n",
       "      <td>11.0</td>\n",
       "      <td>One day a little boy called John uh with his d...</td>\n",
       "    </tr>\n",
       "    <tr>\n",
       "      <th>2</th>\n",
       "      <td>DE_SP_B1_21_12_13_SE</td>\n",
       "      <td>B1</td>\n",
       "      <td>21</td>\n",
       "      <td>German</td>\n",
       "      <td>9</td>\n",
       "      <td>12.0</td>\n",
       "      <td>One day a boy was sitting in his room / uh he ...</td>\n",
       "    </tr>\n",
       "    <tr>\n",
       "      <th>3</th>\n",
       "      <td>DE_SP_B1_22_15_13_LF</td>\n",
       "      <td>B1</td>\n",
       "      <td>22</td>\n",
       "      <td>German</td>\n",
       "      <td>7</td>\n",
       "      <td>15.0</td>\n",
       "      <td>Uh one day a little boy and his dog are watchi...</td>\n",
       "    </tr>\n",
       "    <tr>\n",
       "      <th>4</th>\n",
       "      <td>DE_SP_B1_33_10_14_JR</td>\n",
       "      <td>B1</td>\n",
       "      <td>33</td>\n",
       "      <td>German</td>\n",
       "      <td>10</td>\n",
       "      <td>10.0</td>\n",
       "      <td>Ok this story is about toch uh Charles Chaplin...</td>\n",
       "    </tr>\n",
       "  </tbody>\n",
       "</table>\n",
       "</div>"
      ],
      "text/plain": [
       "               Filename Proficiency  Age      L1  Age_Exposure  Years_Study  \\\n",
       "0  DE_SP_B1_26_13_13_TM         B1    26  German             8         13.0   \n",
       "1  DE_SP_B1_19_11_13_RN         B1    19  German            10         11.0   \n",
       "2  DE_SP_B1_21_12_13_SE         B1    21  German             9         12.0   \n",
       "3  DE_SP_B1_22_15_13_LF         B1    22  German             7         15.0   \n",
       "4  DE_SP_B1_33_10_14_JR         B1    33  German            10         10.0   \n",
       "\n",
       "                                                Text  \n",
       "0  One day Tommy found a frog in a forest and bro...  \n",
       "1  One day a little boy called John uh with his d...  \n",
       "2  One day a boy was sitting in his room / uh he ...  \n",
       "3  Uh one day a little boy and his dog are watchi...  \n",
       "4  Ok this story is about toch uh Charles Chaplin...  "
      ]
     },
     "execution_count": 14,
     "metadata": {},
     "output_type": "execute_result"
    }
   ],
   "source": [
    "Lcorpus.head()"
   ]
  },
  {
   "cell_type": "markdown",
   "id": "c19cad21",
   "metadata": {},
   "source": [
    "## Native corpus"
   ]
  },
  {
   "cell_type": "markdown",
   "id": "846e0556",
   "metadata": {},
   "source": [
    "I will utilize the \"Frog Story Corpora\", which consists of recorded narratives of 12 different native English speakers telling a wordless \"frog story\" from a picture book. Each speaker was recorded at several different age levels (3, 4, 5, 9, and 20). "
   ]
  },
  {
   "cell_type": "markdown",
   "id": "51b67f0c",
   "metadata": {},
   "source": [
    "### Data import (Native)"
   ]
  },
  {
   "cell_type": "markdown",
   "id": "71ba81ae",
   "metadata": {},
   "source": [
    "The CHILDES corpus has its own annotation and analysis format, the `CHAT` format, and a dedicated Python library for language acquisiton research utilizing their database. First, installing `PyLangAcq`. "
   ]
  },
  {
   "cell_type": "code",
   "execution_count": 15,
   "id": "cab7921f",
   "metadata": {
    "scrolled": true
   },
   "outputs": [
    {
     "name": "stdout",
     "output_type": "stream",
     "text": [
      "Requirement already satisfied: pylangacq in c:\\users\\dinoc\\appdata\\local\\programs\\python\\python310\\lib\\site-packages (0.17.0)\n",
      "Requirement already satisfied: tabulate[widechars]>=0.8.9 in c:\\users\\dinoc\\appdata\\local\\programs\\python\\python310\\lib\\site-packages (from pylangacq) (0.9.0)\n",
      "Requirement already satisfied: python-dateutil>=2.0.0 in c:\\users\\dinoc\\appdata\\local\\programs\\python\\python310\\lib\\site-packages (from pylangacq) (2.8.2)\n",
      "Requirement already satisfied: requests>=2.18.0 in c:\\users\\dinoc\\appdata\\local\\programs\\python\\python310\\lib\\site-packages (from pylangacq) (2.28.2)\n",
      "Requirement already satisfied: six>=1.5 in c:\\users\\dinoc\\appdata\\local\\programs\\python\\python310\\lib\\site-packages (from python-dateutil>=2.0.0->pylangacq) (1.16.0)\n",
      "Requirement already satisfied: charset-normalizer<4,>=2 in c:\\users\\dinoc\\appdata\\local\\programs\\python\\python310\\lib\\site-packages (from requests>=2.18.0->pylangacq) (3.0.1)\n",
      "Requirement already satisfied: idna<4,>=2.5 in c:\\users\\dinoc\\appdata\\local\\programs\\python\\python310\\lib\\site-packages (from requests>=2.18.0->pylangacq) (3.4)\n",
      "Requirement already satisfied: certifi>=2017.4.17 in c:\\users\\dinoc\\appdata\\local\\programs\\python\\python310\\lib\\site-packages (from requests>=2.18.0->pylangacq) (2022.12.7)\n",
      "Requirement already satisfied: urllib3<1.27,>=1.21.1 in c:\\users\\dinoc\\appdata\\local\\programs\\python\\python310\\lib\\site-packages (from requests>=2.18.0->pylangacq) (1.26.14)\n",
      "Requirement already satisfied: wcwidth in c:\\users\\dinoc\\appdata\\local\\programs\\python\\python310\\lib\\site-packages (from tabulate[widechars]>=0.8.9->pylangacq) (0.2.5)\n",
      "Note: you may need to restart the kernel to use updated packages.\n"
     ]
    },
    {
     "name": "stderr",
     "output_type": "stream",
     "text": [
      "\n",
      "[notice] A new release of pip available: 22.3.1 -> 23.0.1\n",
      "[notice] To update, run: python.exe -m pip install --upgrade pip\n"
     ]
    }
   ],
   "source": [
    "pip install --upgrade pylangacq "
   ]
  },
  {
   "cell_type": "code",
   "execution_count": 16,
   "id": "1f4ade33",
   "metadata": {},
   "outputs": [],
   "source": [
    "import pylangacq"
   ]
  },
  {
   "cell_type": "markdown",
   "id": "0f24100f",
   "metadata": {},
   "source": [
    "Importing a sample of the data using `PyLangAcq`."
   ]
  },
  {
   "cell_type": "code",
   "execution_count": 17,
   "id": "8d66ec50",
   "metadata": {
    "scrolled": true
   },
   "outputs": [],
   "source": [
    "path = '../data/CHILDES/English-Slobin/'\n",
    "age_03 = pylangacq.read_chat(path, '03') # creating a reader object from a CHAT file"
   ]
  },
  {
   "cell_type": "markdown",
   "id": "feff1a49",
   "metadata": {},
   "source": [
    "Accessing the information stored in the `CHAT` files."
   ]
  },
  {
   "cell_type": "code",
   "execution_count": 18,
   "id": "640a9c26",
   "metadata": {
    "scrolled": false
   },
   "outputs": [
    {
     "name": "stdout",
     "output_type": "stream",
     "text": [
      "<class 'pylangacq.chat.Reader'>\n",
      "Number of files: 12\n"
     ]
    }
   ],
   "source": [
    "print(type(age_03))\n",
    "print('Number of files:', age_03.n_files()) # some basic information about this object"
   ]
  },
  {
   "cell_type": "code",
   "execution_count": 19,
   "id": "6586e5da",
   "metadata": {
    "scrolled": false
   },
   "outputs": [
    {
     "name": "stdout",
     "output_type": "stream",
     "text": [
      "{'G': '15',\n",
      " 'Languages': ['eng'],\n",
      " 'PID': '11312/c-00020713-1',\n",
      " 'Participants': {'CHI': {'age': '3;01.',\n",
      "                          'corpus': 'English-Slobin',\n",
      "                          'custom': '',\n",
      "                          'education': '',\n",
      "                          'group': '',\n",
      "                          'language': 'eng',\n",
      "                          'name': 'Target_Child',\n",
      "                          'role': 'Target_Child',\n",
      "                          'ses': '',\n",
      "                          'sex': ''}},\n",
      " 'Types': 'cross, narrative, TD',\n",
      " 'UTF8': ''}\n"
     ]
    }
   ],
   "source": [
    "cp.pprint(age_03.headers()[0]) # accessing the metadata stored for the first CHAT file"
   ]
  },
  {
   "cell_type": "code",
   "execution_count": 20,
   "id": "e42c39e7",
   "metadata": {
    "scrolled": true
   },
   "outputs": [
    {
     "data": {
      "text/plain": [
       "'3;01.'"
      ]
     },
     "execution_count": 20,
     "metadata": {},
     "output_type": "execute_result"
    }
   ],
   "source": [
    "age_03.headers()[0]['Participants']['CHI']['age'] # accesing nested dictionary information using keys"
   ]
  },
  {
   "cell_type": "code",
   "execution_count": 30,
   "id": "78ad79a2",
   "metadata": {},
   "outputs": [
    {
     "data": {
      "text/plain": [
       "[Token(word='.', pos=None, mor=None, gra=None),\n",
       " Token(word='when', pos='conj', mor='when', gra=Gra(dep=1, head=4, rel='LINK')),\n",
       " Token(word=\"he's\", pos='pro:sub', mor='he', gra=Gra(dep=2, head=4, rel='SUBJ')),\n",
       " Token(word='CLITIC', pos='aux', mor='be&3S', gra=Gra(dep=3, head=4, rel='AUX')),\n",
       " Token(word='sleeping', pos='part', mor='sleep-PRESP', gra=Gra(dep=4, head=0, rel='ROOT')),\n",
       " Token(word=',', pos='cm', mor='cm', gra=Gra(dep=5, head=4, rel='LP')),\n",
       " Token(word='.', pos='.', mor='', gra=Gra(dep=6, head=4, rel='PUNCT')),\n",
       " Token(word='and', pos='coord', mor='and', gra=Gra(dep=1, head=4, rel='LINK')),\n",
       " Token(word='his', pos='det:poss', mor='his', gra=Gra(dep=2, head=3, rel='DET')),\n",
       " Token(word='frog', pos='n', mor='frog', gra=Gra(dep=3, head=4, rel='SUBJ')),\n",
       " Token(word='getting', pos='n:gerund', mor='get-PRESP', gra=Gra(dep=4, head=0, rel='ROOT')),\n",
       " Token(word='out', pos='prep', mor='out', gra=Gra(dep=5, head=4, rel='JCT')),\n",
       " Token(word='!', pos='!', mor='', gra=Gra(dep=6, head=4, rel='PUNCT')),\n",
       " Token(word='.', pos=None, mor=None, gra=None),\n",
       " Token(word='oh', pos='co', mor='oh', gra=Gra(dep=1, head=4, rel='COM')),\n",
       " Token(word='what↑', pos='pro:int', mor='what', gra=Gra(dep=2, head=4, rel='LINK')),\n",
       " Token(word='he', pos='pro:sub', mor='he', gra=Gra(dep=3, head=4, rel='SUBJ')),\n",
       " Token(word='licked', pos='v', mor='lick-PAST', gra=Gra(dep=4, head=0, rel='ROOT')),\n",
       " Token(word='on', pos='prep', mor='on', gra=Gra(dep=5, head=4, rel='JCT')),\n",
       " Token(word='his', pos='det:poss', mor='his', gra=Gra(dep=6, head=7, rel='DET'))]"
      ]
     },
     "execution_count": 30,
     "metadata": {},
     "output_type": "execute_result"
    }
   ],
   "source": [
    "age_03.tokens()[:20] # previewing the annotation stored in each CHAT file using the .tokens() method"
   ]
  },
  {
   "cell_type": "markdown",
   "id": "a76c0700",
   "metadata": {},
   "source": [
    "Now, compiling all of the files in the corpora into a dataframe. "
   ]
  },
  {
   "cell_type": "code",
   "execution_count": 22,
   "id": "6981205f",
   "metadata": {},
   "outputs": [],
   "source": [
    "# initiating empty lists\n",
    "file_path_list = []\n",
    "participant_list = []\n",
    "age_list = []\n",
    "tokens_list = []\n",
    "\n",
    "# read entire corpus into a Reader object: \n",
    "corpus = pylangacq.Reader.from_dir('../data/CHILDES/English-Slobin/')\n",
    "for f in corpus:\n",
    "    file_path = f.file_paths()[0].split('/')[4]\n",
    "    participant = f.headers()[0]['PID']\n",
    "    age = f.headers()[0]['Participants']['CHI']['age']\n",
    "    tokens = f.tokens()\n",
    "    # appending values to lists\n",
    "    file_path_list.append(file_path)\n",
    "    participant_list.append(participant)\n",
    "    age_list.append(age)\n",
    "    tokens_list.append(tokens)"
   ]
  },
  {
   "cell_type": "code",
   "execution_count": 23,
   "id": "996533db",
   "metadata": {},
   "outputs": [],
   "source": [
    "# building the dataframe\n",
    "Ncorpus = pd.DataFrame({'Filename':file_path_list,\n",
    "                       'Participant':participant_list,\n",
    "                       'Age':age_list,\n",
    "                       'Tokens':tokens_list\n",
    "                       })"
   ]
  },
  {
   "cell_type": "code",
   "execution_count": 24,
   "id": "59b8901e",
   "metadata": {
    "scrolled": true
   },
   "outputs": [
    {
     "data": {
      "text/html": [
       "<div>\n",
       "<style scoped>\n",
       "    .dataframe tbody tr th:only-of-type {\n",
       "        vertical-align: middle;\n",
       "    }\n",
       "\n",
       "    .dataframe tbody tr th {\n",
       "        vertical-align: top;\n",
       "    }\n",
       "\n",
       "    .dataframe thead th {\n",
       "        text-align: right;\n",
       "    }\n",
       "</style>\n",
       "<table border=\"1\" class=\"dataframe\">\n",
       "  <thead>\n",
       "    <tr style=\"text-align: right;\">\n",
       "      <th></th>\n",
       "      <th>Filename</th>\n",
       "      <th>Participant</th>\n",
       "      <th>Age</th>\n",
       "      <th>Tokens</th>\n",
       "    </tr>\n",
       "  </thead>\n",
       "  <tbody>\n",
       "    <tr>\n",
       "      <th>0</th>\n",
       "      <td>03\\03a.cha</td>\n",
       "      <td>11312/c-00020713-1</td>\n",
       "      <td>3;01.</td>\n",
       "      <td>[Token(word='.', pos=None, mor=None, gra=None)...</td>\n",
       "    </tr>\n",
       "    <tr>\n",
       "      <th>1</th>\n",
       "      <td>03\\03b.cha</td>\n",
       "      <td>11312/c-00020714-1</td>\n",
       "      <td>3;04.</td>\n",
       "      <td>[Token(word=\"they're\", pos='pro:sub', mor='the...</td>\n",
       "    </tr>\n",
       "    <tr>\n",
       "      <th>2</th>\n",
       "      <td>03\\03c.cha</td>\n",
       "      <td>11312/c-00020715-1</td>\n",
       "      <td>3;04.</td>\n",
       "      <td>[Token(word=\"there's\", pos='pro:exist', mor='t...</td>\n",
       "    </tr>\n",
       "    <tr>\n",
       "      <th>3</th>\n",
       "      <td>03\\03d.cha</td>\n",
       "      <td>11312/c-00020716-1</td>\n",
       "      <td>3;05.</td>\n",
       "      <td>[Token(word='a', pos='det:art', mor='a', gra=G...</td>\n",
       "    </tr>\n",
       "    <tr>\n",
       "      <th>4</th>\n",
       "      <td>03\\03e.cha</td>\n",
       "      <td>11312/c-00020717-1</td>\n",
       "      <td>3;08.</td>\n",
       "      <td>[Token(word='.', pos=None, mor=None, gra=None)...</td>\n",
       "    </tr>\n",
       "  </tbody>\n",
       "</table>\n",
       "</div>"
      ],
      "text/plain": [
       "     Filename         Participant    Age  \\\n",
       "0  03\\03a.cha  11312/c-00020713-1  3;01.   \n",
       "1  03\\03b.cha  11312/c-00020714-1  3;04.   \n",
       "2  03\\03c.cha  11312/c-00020715-1  3;04.   \n",
       "3  03\\03d.cha  11312/c-00020716-1  3;05.   \n",
       "4  03\\03e.cha  11312/c-00020717-1  3;08.   \n",
       "\n",
       "                                              Tokens  \n",
       "0  [Token(word='.', pos=None, mor=None, gra=None)...  \n",
       "1  [Token(word=\"they're\", pos='pro:sub', mor='the...  \n",
       "2  [Token(word=\"there's\", pos='pro:exist', mor='t...  \n",
       "3  [Token(word='a', pos='det:art', mor='a', gra=G...  \n",
       "4  [Token(word='.', pos=None, mor=None, gra=None)...  "
      ]
     },
     "execution_count": 24,
     "metadata": {},
     "output_type": "execute_result"
    }
   ],
   "source": [
    "Ncorpus.head()"
   ]
  },
  {
   "cell_type": "code",
   "execution_count": 25,
   "id": "259882e3",
   "metadata": {
    "scrolled": false
   },
   "outputs": [
    {
     "name": "stdout",
     "output_type": "stream",
     "text": [
      "<class 'pandas.core.frame.DataFrame'>\n",
      "RangeIndex: 59 entries, 0 to 58\n",
      "Data columns (total 4 columns):\n",
      " #   Column       Non-Null Count  Dtype \n",
      "---  ------       --------------  ----- \n",
      " 0   Filename     59 non-null     object\n",
      " 1   Participant  59 non-null     object\n",
      " 2   Age          59 non-null     object\n",
      " 3   Tokens       59 non-null     object\n",
      "dtypes: object(4)\n",
      "memory usage: 2.0+ KB\n"
     ]
    }
   ],
   "source": [
    "Ncorpus.info() "
   ]
  },
  {
   "cell_type": "code",
   "execution_count": 26,
   "id": "410d9f96",
   "metadata": {
    "scrolled": true
   },
   "outputs": [],
   "source": [
    "# tidying up Age column \n",
    "Ncorpus['Age'] = Ncorpus['Age'].str.rstrip('\\.$')"
   ]
  },
  {
   "cell_type": "code",
   "execution_count": 27,
   "id": "0f761a3b",
   "metadata": {},
   "outputs": [
    {
     "data": {
      "text/html": [
       "<div>\n",
       "<style scoped>\n",
       "    .dataframe tbody tr th:only-of-type {\n",
       "        vertical-align: middle;\n",
       "    }\n",
       "\n",
       "    .dataframe tbody tr th {\n",
       "        vertical-align: top;\n",
       "    }\n",
       "\n",
       "    .dataframe thead th {\n",
       "        text-align: right;\n",
       "    }\n",
       "</style>\n",
       "<table border=\"1\" class=\"dataframe\">\n",
       "  <thead>\n",
       "    <tr style=\"text-align: right;\">\n",
       "      <th></th>\n",
       "      <th>Filename</th>\n",
       "      <th>Participant</th>\n",
       "      <th>Age</th>\n",
       "      <th>Tokens</th>\n",
       "    </tr>\n",
       "  </thead>\n",
       "  <tbody>\n",
       "    <tr>\n",
       "      <th>0</th>\n",
       "      <td>03\\03a.cha</td>\n",
       "      <td>11312/c-00020713-1</td>\n",
       "      <td>3;01</td>\n",
       "      <td>[Token(word='.', pos=None, mor=None, gra=None)...</td>\n",
       "    </tr>\n",
       "    <tr>\n",
       "      <th>1</th>\n",
       "      <td>03\\03b.cha</td>\n",
       "      <td>11312/c-00020714-1</td>\n",
       "      <td>3;04</td>\n",
       "      <td>[Token(word=\"they're\", pos='pro:sub', mor='the...</td>\n",
       "    </tr>\n",
       "    <tr>\n",
       "      <th>2</th>\n",
       "      <td>03\\03c.cha</td>\n",
       "      <td>11312/c-00020715-1</td>\n",
       "      <td>3;04</td>\n",
       "      <td>[Token(word=\"there's\", pos='pro:exist', mor='t...</td>\n",
       "    </tr>\n",
       "    <tr>\n",
       "      <th>3</th>\n",
       "      <td>03\\03d.cha</td>\n",
       "      <td>11312/c-00020716-1</td>\n",
       "      <td>3;05</td>\n",
       "      <td>[Token(word='a', pos='det:art', mor='a', gra=G...</td>\n",
       "    </tr>\n",
       "    <tr>\n",
       "      <th>4</th>\n",
       "      <td>03\\03e.cha</td>\n",
       "      <td>11312/c-00020717-1</td>\n",
       "      <td>3;08</td>\n",
       "      <td>[Token(word='.', pos=None, mor=None, gra=None)...</td>\n",
       "    </tr>\n",
       "  </tbody>\n",
       "</table>\n",
       "</div>"
      ],
      "text/plain": [
       "     Filename         Participant   Age  \\\n",
       "0  03\\03a.cha  11312/c-00020713-1  3;01   \n",
       "1  03\\03b.cha  11312/c-00020714-1  3;04   \n",
       "2  03\\03c.cha  11312/c-00020715-1  3;04   \n",
       "3  03\\03d.cha  11312/c-00020716-1  3;05   \n",
       "4  03\\03e.cha  11312/c-00020717-1  3;08   \n",
       "\n",
       "                                              Tokens  \n",
       "0  [Token(word='.', pos=None, mor=None, gra=None)...  \n",
       "1  [Token(word=\"they're\", pos='pro:sub', mor='the...  \n",
       "2  [Token(word=\"there's\", pos='pro:exist', mor='t...  \n",
       "3  [Token(word='a', pos='det:art', mor='a', gra=G...  \n",
       "4  [Token(word='.', pos=None, mor=None, gra=None)...  "
      ]
     },
     "execution_count": 27,
     "metadata": {},
     "output_type": "execute_result"
    }
   ],
   "source": [
    "Ncorpus.head()"
   ]
  },
  {
   "cell_type": "markdown",
   "id": "9a8235d5",
   "metadata": {},
   "source": [
    "## Saving data"
   ]
  },
  {
   "cell_type": "code",
   "execution_count": 28,
   "id": "538ff98a",
   "metadata": {},
   "outputs": [],
   "source": [
    "pd.to_pickle(Lcorpus, \"../data/Lcorpus.pkl\")\n",
    "pd.to_pickle(Ncorpus, \"../data/Ncorpus.pkl\")"
   ]
  },
  {
   "cell_type": "code",
   "execution_count": 29,
   "id": "c7a40652",
   "metadata": {},
   "outputs": [],
   "source": [
    "Lcorpus.to_csv(r'../data_samples/Lcorpus_Prog1.csv', header=True)\n",
    "Ncorpus.to_csv(r'../data_samples/Ncorpus_Prog1.csv', header=True)"
   ]
  }
 ],
 "metadata": {
  "kernelspec": {
   "display_name": "Python 3 (ipykernel)",
   "language": "python",
   "name": "python3"
  },
  "language_info": {
   "codemirror_mode": {
    "name": "ipython",
    "version": 3
   },
   "file_extension": ".py",
   "mimetype": "text/x-python",
   "name": "python",
   "nbconvert_exporter": "python",
   "pygments_lexer": "ipython3",
   "version": "3.10.6"
  }
 },
 "nbformat": 4,
 "nbformat_minor": 5
}
